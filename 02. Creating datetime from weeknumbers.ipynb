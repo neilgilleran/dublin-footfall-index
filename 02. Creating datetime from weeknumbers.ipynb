{
 "cells": [
  {
   "cell_type": "markdown",
   "metadata": {},
   "source": [
    "## Creating dates\n",
    "\n",
    "What is the problem?\n",
    "\n",
    "We have the data melted from the excel files. However we do not have a date.\n",
    "\n",
    "Currently we have the week number and abbreviated day of week. We can get hte year from the filename.\n",
    "\n",
    "We need to reverse engineer the date. \n",
    "\n",
    "We can use strptime\n",
    "\n",
    "We need to create a column with the week number (which we get from the sheet name)\n",
    "*WARNING in hte first week of the year there is a potential to have week 53 and week 1. 53 would be from the previous year.\n",
    "\n"
   ]
  },
  {
   "cell_type": "code",
   "execution_count": 1,
   "metadata": {},
   "outputs": [],
   "source": [
    "import pandas as pd"
   ]
  },
  {
   "cell_type": "code",
   "execution_count": 2,
   "metadata": {},
   "outputs": [],
   "source": [
    "files = !ls output/*csv*"
   ]
  },
  {
   "cell_type": "code",
   "execution_count": 3,
   "metadata": {},
   "outputs": [
    {
     "data": {
      "text/plain": [
       "['output/dublinfootfall2014.csv',\n",
       " 'output/pedestrianfootfall2007.csv',\n",
       " 'output/pedestrianfootfall2008.csv',\n",
       " 'output/pedestrianfootfall2009.csv',\n",
       " 'output/pedestrianfootfall2010.csv',\n",
       " 'output/pedestrianfootfall2011.csv',\n",
       " 'output/pedestrianfootfall2012.csv',\n",
       " 'output/pedestrianfootfall2013.csv']"
      ]
     },
     "execution_count": 3,
     "metadata": {},
     "output_type": "execute_result"
    }
   ],
   "source": [
    "files"
   ]
  },
  {
   "cell_type": "code",
   "execution_count": 4,
   "metadata": {},
   "outputs": [],
   "source": [
    "#TODO strip the year using regex and create the output file name from that\n",
    "file = files[0]"
   ]
  },
  {
   "cell_type": "code",
   "execution_count": 5,
   "metadata": {},
   "outputs": [],
   "source": [
    "df = pd.read_csv(file)"
   ]
  },
  {
   "cell_type": "code",
   "execution_count": 6,
   "metadata": {},
   "outputs": [
    {
     "data": {
      "text/html": [
       "<div>\n",
       "<style scoped>\n",
       "    .dataframe tbody tr th:only-of-type {\n",
       "        vertical-align: middle;\n",
       "    }\n",
       "\n",
       "    .dataframe tbody tr th {\n",
       "        vertical-align: top;\n",
       "    }\n",
       "\n",
       "    .dataframe thead th {\n",
       "        text-align: right;\n",
       "    }\n",
       "</style>\n",
       "<table border=\"1\" class=\"dataframe\">\n",
       "  <thead>\n",
       "    <tr style=\"text-align: right;\">\n",
       "      <th></th>\n",
       "      <th>Sheet Number</th>\n",
       "      <th>Entrance</th>\n",
       "      <th>Time</th>\n",
       "      <th>Day</th>\n",
       "      <th>Direction</th>\n",
       "      <th>Value</th>\n",
       "    </tr>\n",
       "  </thead>\n",
       "  <tbody>\n",
       "    <tr>\n",
       "      <th>0</th>\n",
       "      <td>Week 1 (2014)</td>\n",
       "      <td>O'Connell Street at Clerys</td>\n",
       "      <td>00:00:00</td>\n",
       "      <td>Mon</td>\n",
       "      <td>In</td>\n",
       "      <td>181</td>\n",
       "    </tr>\n",
       "    <tr>\n",
       "      <th>1</th>\n",
       "      <td>Week 1 (2014)</td>\n",
       "      <td>O'Connell Street at Clerys</td>\n",
       "      <td>01:00:00</td>\n",
       "      <td>Mon</td>\n",
       "      <td>In</td>\n",
       "      <td>46</td>\n",
       "    </tr>\n",
       "    <tr>\n",
       "      <th>2</th>\n",
       "      <td>Week 1 (2014)</td>\n",
       "      <td>O'Connell Street at Clerys</td>\n",
       "      <td>02:00:00</td>\n",
       "      <td>Mon</td>\n",
       "      <td>In</td>\n",
       "      <td>22</td>\n",
       "    </tr>\n",
       "    <tr>\n",
       "      <th>3</th>\n",
       "      <td>Week 1 (2014)</td>\n",
       "      <td>O'Connell Street at Clerys</td>\n",
       "      <td>03:00:00</td>\n",
       "      <td>Mon</td>\n",
       "      <td>In</td>\n",
       "      <td>5</td>\n",
       "    </tr>\n",
       "    <tr>\n",
       "      <th>4</th>\n",
       "      <td>Week 1 (2014)</td>\n",
       "      <td>O'Connell Street at Clerys</td>\n",
       "      <td>04:00:00</td>\n",
       "      <td>Mon</td>\n",
       "      <td>In</td>\n",
       "      <td>7</td>\n",
       "    </tr>\n",
       "  </tbody>\n",
       "</table>\n",
       "</div>"
      ],
      "text/plain": [
       "    Sheet Number                    Entrance      Time  Day Direction  Value\n",
       "0  Week 1 (2014)  O'Connell Street at Clerys  00:00:00  Mon        In    181\n",
       "1  Week 1 (2014)  O'Connell Street at Clerys  01:00:00  Mon        In     46\n",
       "2  Week 1 (2014)  O'Connell Street at Clerys  02:00:00  Mon        In     22\n",
       "3  Week 1 (2014)  O'Connell Street at Clerys  03:00:00  Mon        In      5\n",
       "4  Week 1 (2014)  O'Connell Street at Clerys  04:00:00  Mon        In      7"
      ]
     },
     "execution_count": 6,
     "metadata": {},
     "output_type": "execute_result"
    }
   ],
   "source": [
    "df.head()"
   ]
  },
  {
   "cell_type": "code",
   "execution_count": 7,
   "metadata": {},
   "outputs": [
    {
     "data": {
      "text/plain": [
       "'output/dublinfootfall2014.csv'"
      ]
     },
     "execution_count": 7,
     "metadata": {},
     "output_type": "execute_result"
    }
   ],
   "source": [
    "file"
   ]
  },
  {
   "cell_type": "code",
   "execution_count": 8,
   "metadata": {},
   "outputs": [
    {
     "name": "stdout",
     "output_type": "stream",
     "text": [
      "2014\n"
     ]
    }
   ],
   "source": [
    "#use some regex to get the year from the filename\n",
    "import re\n",
    "get_year = re.compile('\\d{4}', re.IGNORECASE)\n",
    "year = get_year.search(file)\n",
    "print(year[0])\n",
    "df['year'] = year[0]"
   ]
  },
  {
   "cell_type": "code",
   "execution_count": 9,
   "metadata": {},
   "outputs": [
    {
     "data": {
      "text/html": [
       "<div>\n",
       "<style scoped>\n",
       "    .dataframe tbody tr th:only-of-type {\n",
       "        vertical-align: middle;\n",
       "    }\n",
       "\n",
       "    .dataframe tbody tr th {\n",
       "        vertical-align: top;\n",
       "    }\n",
       "\n",
       "    .dataframe thead th {\n",
       "        text-align: right;\n",
       "    }\n",
       "</style>\n",
       "<table border=\"1\" class=\"dataframe\">\n",
       "  <thead>\n",
       "    <tr style=\"text-align: right;\">\n",
       "      <th></th>\n",
       "      <th>Sheet Number</th>\n",
       "      <th>Entrance</th>\n",
       "      <th>Time</th>\n",
       "      <th>Day</th>\n",
       "      <th>Direction</th>\n",
       "      <th>Value</th>\n",
       "      <th>year</th>\n",
       "    </tr>\n",
       "  </thead>\n",
       "  <tbody>\n",
       "    <tr>\n",
       "      <th>0</th>\n",
       "      <td>Week 1 (2014)</td>\n",
       "      <td>O'Connell Street at Clerys</td>\n",
       "      <td>00:00:00</td>\n",
       "      <td>Mon</td>\n",
       "      <td>In</td>\n",
       "      <td>181</td>\n",
       "      <td>2014</td>\n",
       "    </tr>\n",
       "    <tr>\n",
       "      <th>1</th>\n",
       "      <td>Week 1 (2014)</td>\n",
       "      <td>O'Connell Street at Clerys</td>\n",
       "      <td>01:00:00</td>\n",
       "      <td>Mon</td>\n",
       "      <td>In</td>\n",
       "      <td>46</td>\n",
       "      <td>2014</td>\n",
       "    </tr>\n",
       "    <tr>\n",
       "      <th>2</th>\n",
       "      <td>Week 1 (2014)</td>\n",
       "      <td>O'Connell Street at Clerys</td>\n",
       "      <td>02:00:00</td>\n",
       "      <td>Mon</td>\n",
       "      <td>In</td>\n",
       "      <td>22</td>\n",
       "      <td>2014</td>\n",
       "    </tr>\n",
       "    <tr>\n",
       "      <th>3</th>\n",
       "      <td>Week 1 (2014)</td>\n",
       "      <td>O'Connell Street at Clerys</td>\n",
       "      <td>03:00:00</td>\n",
       "      <td>Mon</td>\n",
       "      <td>In</td>\n",
       "      <td>5</td>\n",
       "      <td>2014</td>\n",
       "    </tr>\n",
       "    <tr>\n",
       "      <th>4</th>\n",
       "      <td>Week 1 (2014)</td>\n",
       "      <td>O'Connell Street at Clerys</td>\n",
       "      <td>04:00:00</td>\n",
       "      <td>Mon</td>\n",
       "      <td>In</td>\n",
       "      <td>7</td>\n",
       "      <td>2014</td>\n",
       "    </tr>\n",
       "  </tbody>\n",
       "</table>\n",
       "</div>"
      ],
      "text/plain": [
       "    Sheet Number                    Entrance      Time  Day Direction  Value  \\\n",
       "0  Week 1 (2014)  O'Connell Street at Clerys  00:00:00  Mon        In    181   \n",
       "1  Week 1 (2014)  O'Connell Street at Clerys  01:00:00  Mon        In     46   \n",
       "2  Week 1 (2014)  O'Connell Street at Clerys  02:00:00  Mon        In     22   \n",
       "3  Week 1 (2014)  O'Connell Street at Clerys  03:00:00  Mon        In      5   \n",
       "4  Week 1 (2014)  O'Connell Street at Clerys  04:00:00  Mon        In      7   \n",
       "\n",
       "   year  \n",
       "0  2014  \n",
       "1  2014  \n",
       "2  2014  \n",
       "3  2014  \n",
       "4  2014  "
      ]
     },
     "execution_count": 9,
     "metadata": {},
     "output_type": "execute_result"
    }
   ],
   "source": [
    "df.head()"
   ]
  },
  {
   "cell_type": "code",
   "execution_count": 10,
   "metadata": {},
   "outputs": [],
   "source": [
    "def get_week(vals):\n",
    "    #pattern = r'\\d+'\n",
    "    pattern = r'((Week)|(week))(\\_|\\s)(\\d+)'\n",
    "    #x = re.findall(pattern, vals)\n",
    "    x = re.match(pattern, vals)\n",
    "    if x :\n",
    "        return(x[0])\n",
    "\n",
    "df['week_number'] = df['Sheet Number'].apply(get_week)\n",
    "df['week_number'] = df['week_number'].str.strip('keeWw ')"
   ]
  },
  {
   "cell_type": "code",
   "execution_count": 11,
   "metadata": {},
   "outputs": [
    {
     "data": {
      "text/html": [
       "<div>\n",
       "<style scoped>\n",
       "    .dataframe tbody tr th:only-of-type {\n",
       "        vertical-align: middle;\n",
       "    }\n",
       "\n",
       "    .dataframe tbody tr th {\n",
       "        vertical-align: top;\n",
       "    }\n",
       "\n",
       "    .dataframe thead th {\n",
       "        text-align: right;\n",
       "    }\n",
       "</style>\n",
       "<table border=\"1\" class=\"dataframe\">\n",
       "  <thead>\n",
       "    <tr style=\"text-align: right;\">\n",
       "      <th></th>\n",
       "      <th>Sheet Number</th>\n",
       "      <th>Entrance</th>\n",
       "      <th>Time</th>\n",
       "      <th>Day</th>\n",
       "      <th>Direction</th>\n",
       "      <th>Value</th>\n",
       "      <th>year</th>\n",
       "      <th>week_number</th>\n",
       "    </tr>\n",
       "  </thead>\n",
       "  <tbody>\n",
       "    <tr>\n",
       "      <th>148507</th>\n",
       "      <td>Week 34 (2014)</td>\n",
       "      <td>South William St</td>\n",
       "      <td>19:00:00</td>\n",
       "      <td>Sun</td>\n",
       "      <td>Out</td>\n",
       "      <td>259</td>\n",
       "      <td>2014</td>\n",
       "      <td>34</td>\n",
       "    </tr>\n",
       "    <tr>\n",
       "      <th>148508</th>\n",
       "      <td>Week 34 (2014)</td>\n",
       "      <td>South William St</td>\n",
       "      <td>20:00:00</td>\n",
       "      <td>Sun</td>\n",
       "      <td>Out</td>\n",
       "      <td>123</td>\n",
       "      <td>2014</td>\n",
       "      <td>34</td>\n",
       "    </tr>\n",
       "    <tr>\n",
       "      <th>148509</th>\n",
       "      <td>Week 34 (2014)</td>\n",
       "      <td>South William St</td>\n",
       "      <td>21:00:00</td>\n",
       "      <td>Sun</td>\n",
       "      <td>Out</td>\n",
       "      <td>108</td>\n",
       "      <td>2014</td>\n",
       "      <td>34</td>\n",
       "    </tr>\n",
       "    <tr>\n",
       "      <th>148510</th>\n",
       "      <td>Week 34 (2014)</td>\n",
       "      <td>South William St</td>\n",
       "      <td>22:00:00</td>\n",
       "      <td>Sun</td>\n",
       "      <td>Out</td>\n",
       "      <td>66</td>\n",
       "      <td>2014</td>\n",
       "      <td>34</td>\n",
       "    </tr>\n",
       "    <tr>\n",
       "      <th>148511</th>\n",
       "      <td>Week 34 (2014)</td>\n",
       "      <td>South William St</td>\n",
       "      <td>23:00:00</td>\n",
       "      <td>Sun</td>\n",
       "      <td>Out</td>\n",
       "      <td>49</td>\n",
       "      <td>2014</td>\n",
       "      <td>34</td>\n",
       "    </tr>\n",
       "  </tbody>\n",
       "</table>\n",
       "</div>"
      ],
      "text/plain": [
       "          Sheet Number          Entrance      Time  Day Direction  Value  \\\n",
       "148507  Week 34 (2014)  South William St  19:00:00  Sun       Out    259   \n",
       "148508  Week 34 (2014)  South William St  20:00:00  Sun       Out    123   \n",
       "148509  Week 34 (2014)  South William St  21:00:00  Sun       Out    108   \n",
       "148510  Week 34 (2014)  South William St  22:00:00  Sun       Out     66   \n",
       "148511  Week 34 (2014)  South William St  23:00:00  Sun       Out     49   \n",
       "\n",
       "        year week_number  \n",
       "148507  2014          34  \n",
       "148508  2014          34  \n",
       "148509  2014          34  \n",
       "148510  2014          34  \n",
       "148511  2014          34  "
      ]
     },
     "execution_count": 11,
     "metadata": {},
     "output_type": "execute_result"
    }
   ],
   "source": [
    "df.tail()"
   ]
  },
  {
   "cell_type": "markdown",
   "metadata": {},
   "source": [
    "## Issue with abbreviated days\n",
    "\n",
    "The issue encountered here was days were as such::\n",
    "{'Fri', 'Mon', 'Sat', 'Sun', 'Thurs', 'Tues', 'Weds'}\n",
    "\n",
    "When they should be::\n",
    "['Mon', 'Tue', 'Wed', 'Thu', 'Fri', 'Sat', 'Sun']\n",
    "\n",
    "Created a replace map to update the values"
   ]
  },
  {
   "cell_type": "code",
   "execution_count": 12,
   "metadata": {},
   "outputs": [],
   "source": [
    "import calendar\n",
    "abbreviated_days = list(calendar.day_abbr)"
   ]
  },
  {
   "cell_type": "code",
   "execution_count": 13,
   "metadata": {},
   "outputs": [
    {
     "data": {
      "text/plain": [
       "['Mon', 'Tue', 'Wed', 'Thu', 'Fri', 'Sat', 'Sun']"
      ]
     },
     "execution_count": 13,
     "metadata": {},
     "output_type": "execute_result"
    }
   ],
   "source": [
    "abbreviated_days"
   ]
  },
  {
   "cell_type": "code",
   "execution_count": 14,
   "metadata": {},
   "outputs": [
    {
     "data": {
      "text/plain": [
       "{'Fri', 'Mon', 'Sat', 'Sun', 'Thurs', 'Tues', 'Weds'}"
      ]
     },
     "execution_count": 14,
     "metadata": {},
     "output_type": "execute_result"
    }
   ],
   "source": [
    "set(df['Day'])"
   ]
  },
  {
   "cell_type": "code",
   "execution_count": 15,
   "metadata": {},
   "outputs": [],
   "source": [
    "\"\"\" we only need to update The,Tue and Wed \"\"\"\n",
    "replace_map = {'Mon':'Mon','Tues':'Tue','Weds':'Wed','Thurs':'Thu','Fri':'Fri','Sat':'Sat','Sun':'Sun'}\n",
    "\n",
    "df['day']=df['Day'].map(replace_map)"
   ]
  },
  {
   "cell_type": "code",
   "execution_count": 16,
   "metadata": {},
   "outputs": [],
   "source": [
    "df = df.drop('Day', axis=1)"
   ]
  },
  {
   "cell_type": "code",
   "execution_count": 17,
   "metadata": {},
   "outputs": [
    {
     "data": {
      "text/plain": [
       "Thu    21216\n",
       "Sat    21216\n",
       "Tue    21216\n",
       "Mon    21216\n",
       "Fri    21216\n",
       "Wed    21216\n",
       "Sun    21216\n",
       "Name: day, dtype: int64"
      ]
     },
     "execution_count": 17,
     "metadata": {},
     "output_type": "execute_result"
    }
   ],
   "source": [
    "df['day'].value_counts()"
   ]
  },
  {
   "cell_type": "code",
   "execution_count": 18,
   "metadata": {},
   "outputs": [],
   "source": [
    "df['raw_date'] = df['day'] +' '+df['week_number']+' '+df['year']"
   ]
  },
  {
   "cell_type": "code",
   "execution_count": 20,
   "metadata": {},
   "outputs": [],
   "source": [
    "from datetime import datetime\n",
    "\n",
    "\"\"\"\n",
    "We are going to convert to a date from Raw date which is e.g. Mon 1 2007(\"%a %W %Y\")\n",
    "%a - Abbreviated Day e.g. Mon/Tue\n",
    "%W - Week Number (starting 1 at first Monday)\n",
    "%Y - Year\n",
    "\n",
    "This will output a date\n",
    "\"\"\"\n",
    "\n",
    "def convert_to_date(vals):\n",
    "    date_object = datetime.strptime(vals, \"%a %W %Y\")\n",
    "    #print(date_object)\n",
    "    if date_object:\n",
    "        return(date_object)"
   ]
  },
  {
   "cell_type": "code",
   "execution_count": 21,
   "metadata": {},
   "outputs": [
    {
     "ename": "TypeError",
     "evalue": "strptime() argument 1 must be str, not float",
     "output_type": "error",
     "traceback": [
      "\u001b[1;31m---------------------------------------------------------------------------\u001b[0m",
      "\u001b[1;31mTypeError\u001b[0m                                 Traceback (most recent call last)",
      "\u001b[1;32m<ipython-input-21-252f4745791f>\u001b[0m in \u001b[0;36m<module>\u001b[1;34m()\u001b[0m\n\u001b[1;32m----> 1\u001b[1;33m \u001b[0mdf\u001b[0m\u001b[1;33m[\u001b[0m\u001b[1;34m'date'\u001b[0m\u001b[1;33m]\u001b[0m \u001b[1;33m=\u001b[0m \u001b[0mdf\u001b[0m\u001b[1;33m[\u001b[0m\u001b[1;34m'raw_date'\u001b[0m\u001b[1;33m]\u001b[0m\u001b[1;33m.\u001b[0m\u001b[0mapply\u001b[0m\u001b[1;33m(\u001b[0m\u001b[0mconvert_to_date\u001b[0m\u001b[1;33m)\u001b[0m\u001b[1;33m\u001b[0m\u001b[0m\n\u001b[0m",
      "\u001b[1;32m~\\AppData\\Local\\Continuum\\anaconda3\\lib\\site-packages\\pandas\\core\\series.py\u001b[0m in \u001b[0;36mapply\u001b[1;34m(self, func, convert_dtype, args, **kwds)\u001b[0m\n\u001b[0;32m   3190\u001b[0m             \u001b[1;32melse\u001b[0m\u001b[1;33m:\u001b[0m\u001b[1;33m\u001b[0m\u001b[0m\n\u001b[0;32m   3191\u001b[0m                 \u001b[0mvalues\u001b[0m \u001b[1;33m=\u001b[0m \u001b[0mself\u001b[0m\u001b[1;33m.\u001b[0m\u001b[0mastype\u001b[0m\u001b[1;33m(\u001b[0m\u001b[0mobject\u001b[0m\u001b[1;33m)\u001b[0m\u001b[1;33m.\u001b[0m\u001b[0mvalues\u001b[0m\u001b[1;33m\u001b[0m\u001b[0m\n\u001b[1;32m-> 3192\u001b[1;33m                 \u001b[0mmapped\u001b[0m \u001b[1;33m=\u001b[0m \u001b[0mlib\u001b[0m\u001b[1;33m.\u001b[0m\u001b[0mmap_infer\u001b[0m\u001b[1;33m(\u001b[0m\u001b[0mvalues\u001b[0m\u001b[1;33m,\u001b[0m \u001b[0mf\u001b[0m\u001b[1;33m,\u001b[0m \u001b[0mconvert\u001b[0m\u001b[1;33m=\u001b[0m\u001b[0mconvert_dtype\u001b[0m\u001b[1;33m)\u001b[0m\u001b[1;33m\u001b[0m\u001b[0m\n\u001b[0m\u001b[0;32m   3193\u001b[0m \u001b[1;33m\u001b[0m\u001b[0m\n\u001b[0;32m   3194\u001b[0m         \u001b[1;32mif\u001b[0m \u001b[0mlen\u001b[0m\u001b[1;33m(\u001b[0m\u001b[0mmapped\u001b[0m\u001b[1;33m)\u001b[0m \u001b[1;32mand\u001b[0m \u001b[0misinstance\u001b[0m\u001b[1;33m(\u001b[0m\u001b[0mmapped\u001b[0m\u001b[1;33m[\u001b[0m\u001b[1;36m0\u001b[0m\u001b[1;33m]\u001b[0m\u001b[1;33m,\u001b[0m \u001b[0mSeries\u001b[0m\u001b[1;33m)\u001b[0m\u001b[1;33m:\u001b[0m\u001b[1;33m\u001b[0m\u001b[0m\n",
      "\u001b[1;32mpandas/_libs/src\\inference.pyx\u001b[0m in \u001b[0;36mpandas._libs.lib.map_infer\u001b[1;34m()\u001b[0m\n",
      "\u001b[1;32m<ipython-input-20-2197a3816bee>\u001b[0m in \u001b[0;36mconvert_to_date\u001b[1;34m(vals)\u001b[0m\n\u001b[0;32m     11\u001b[0m \u001b[1;33m\u001b[0m\u001b[0m\n\u001b[0;32m     12\u001b[0m \u001b[1;32mdef\u001b[0m \u001b[0mconvert_to_date\u001b[0m\u001b[1;33m(\u001b[0m\u001b[0mvals\u001b[0m\u001b[1;33m)\u001b[0m\u001b[1;33m:\u001b[0m\u001b[1;33m\u001b[0m\u001b[0m\n\u001b[1;32m---> 13\u001b[1;33m     \u001b[0mdate_object\u001b[0m \u001b[1;33m=\u001b[0m \u001b[0mdatetime\u001b[0m\u001b[1;33m.\u001b[0m\u001b[0mstrptime\u001b[0m\u001b[1;33m(\u001b[0m\u001b[0mvals\u001b[0m\u001b[1;33m,\u001b[0m \u001b[1;34m\"%a %W %Y\"\u001b[0m\u001b[1;33m)\u001b[0m\u001b[1;33m\u001b[0m\u001b[0m\n\u001b[0m\u001b[0;32m     14\u001b[0m     \u001b[1;31m#print(date_object)\u001b[0m\u001b[1;33m\u001b[0m\u001b[1;33m\u001b[0m\u001b[0m\n\u001b[0;32m     15\u001b[0m     \u001b[1;32mif\u001b[0m \u001b[0mdate_object\u001b[0m\u001b[1;33m:\u001b[0m\u001b[1;33m\u001b[0m\u001b[0m\n",
      "\u001b[1;31mTypeError\u001b[0m: strptime() argument 1 must be str, not float"
     ]
    }
   ],
   "source": [
    "df['date'] = df['raw_date'].apply(convert_to_date)"
   ]
  },
  {
   "cell_type": "code",
   "execution_count": 22,
   "metadata": {},
   "outputs": [
    {
     "data": {
      "text/html": [
       "<div>\n",
       "<style scoped>\n",
       "    .dataframe tbody tr th:only-of-type {\n",
       "        vertical-align: middle;\n",
       "    }\n",
       "\n",
       "    .dataframe tbody tr th {\n",
       "        vertical-align: top;\n",
       "    }\n",
       "\n",
       "    .dataframe thead th {\n",
       "        text-align: right;\n",
       "    }\n",
       "</style>\n",
       "<table border=\"1\" class=\"dataframe\">\n",
       "  <thead>\n",
       "    <tr style=\"text-align: right;\">\n",
       "      <th></th>\n",
       "      <th>Sheet Number</th>\n",
       "      <th>Entrance</th>\n",
       "      <th>Time</th>\n",
       "      <th>Direction</th>\n",
       "      <th>Value</th>\n",
       "      <th>year</th>\n",
       "      <th>week_number</th>\n",
       "      <th>day</th>\n",
       "      <th>raw_date</th>\n",
       "    </tr>\n",
       "  </thead>\n",
       "  <tbody>\n",
       "    <tr>\n",
       "      <th>148507</th>\n",
       "      <td>Week 34 (2014)</td>\n",
       "      <td>South William St</td>\n",
       "      <td>19:00:00</td>\n",
       "      <td>Out</td>\n",
       "      <td>259</td>\n",
       "      <td>2014</td>\n",
       "      <td>34</td>\n",
       "      <td>Sun</td>\n",
       "      <td>Sun 34 2014</td>\n",
       "    </tr>\n",
       "    <tr>\n",
       "      <th>148508</th>\n",
       "      <td>Week 34 (2014)</td>\n",
       "      <td>South William St</td>\n",
       "      <td>20:00:00</td>\n",
       "      <td>Out</td>\n",
       "      <td>123</td>\n",
       "      <td>2014</td>\n",
       "      <td>34</td>\n",
       "      <td>Sun</td>\n",
       "      <td>Sun 34 2014</td>\n",
       "    </tr>\n",
       "    <tr>\n",
       "      <th>148509</th>\n",
       "      <td>Week 34 (2014)</td>\n",
       "      <td>South William St</td>\n",
       "      <td>21:00:00</td>\n",
       "      <td>Out</td>\n",
       "      <td>108</td>\n",
       "      <td>2014</td>\n",
       "      <td>34</td>\n",
       "      <td>Sun</td>\n",
       "      <td>Sun 34 2014</td>\n",
       "    </tr>\n",
       "    <tr>\n",
       "      <th>148510</th>\n",
       "      <td>Week 34 (2014)</td>\n",
       "      <td>South William St</td>\n",
       "      <td>22:00:00</td>\n",
       "      <td>Out</td>\n",
       "      <td>66</td>\n",
       "      <td>2014</td>\n",
       "      <td>34</td>\n",
       "      <td>Sun</td>\n",
       "      <td>Sun 34 2014</td>\n",
       "    </tr>\n",
       "    <tr>\n",
       "      <th>148511</th>\n",
       "      <td>Week 34 (2014)</td>\n",
       "      <td>South William St</td>\n",
       "      <td>23:00:00</td>\n",
       "      <td>Out</td>\n",
       "      <td>49</td>\n",
       "      <td>2014</td>\n",
       "      <td>34</td>\n",
       "      <td>Sun</td>\n",
       "      <td>Sun 34 2014</td>\n",
       "    </tr>\n",
       "  </tbody>\n",
       "</table>\n",
       "</div>"
      ],
      "text/plain": [
       "          Sheet Number          Entrance      Time Direction  Value  year  \\\n",
       "148507  Week 34 (2014)  South William St  19:00:00       Out    259  2014   \n",
       "148508  Week 34 (2014)  South William St  20:00:00       Out    123  2014   \n",
       "148509  Week 34 (2014)  South William St  21:00:00       Out    108  2014   \n",
       "148510  Week 34 (2014)  South William St  22:00:00       Out     66  2014   \n",
       "148511  Week 34 (2014)  South William St  23:00:00       Out     49  2014   \n",
       "\n",
       "       week_number  day     raw_date  \n",
       "148507          34  Sun  Sun 34 2014  \n",
       "148508          34  Sun  Sun 34 2014  \n",
       "148509          34  Sun  Sun 34 2014  \n",
       "148510          34  Sun  Sun 34 2014  \n",
       "148511          34  Sun  Sun 34 2014  "
      ]
     },
     "execution_count": 22,
     "metadata": {},
     "output_type": "execute_result"
    }
   ],
   "source": [
    "df.tail()"
   ]
  },
  {
   "cell_type": "code",
   "execution_count": 23,
   "metadata": {},
   "outputs": [],
   "source": [
    "df = df.drop(['Sheet Number','year','raw_date','week_number'], axis=1)"
   ]
  },
  {
   "cell_type": "code",
   "execution_count": 24,
   "metadata": {},
   "outputs": [
    {
     "ename": "KeyError",
     "evalue": "'date'",
     "output_type": "error",
     "traceback": [
      "\u001b[1;31m---------------------------------------------------------------------------\u001b[0m",
      "\u001b[1;31mKeyError\u001b[0m                                  Traceback (most recent call last)",
      "\u001b[1;32m<ipython-input-24-9a1ef401b8e1>\u001b[0m in \u001b[0;36m<module>\u001b[1;34m()\u001b[0m\n\u001b[1;32m----> 1\u001b[1;33m \u001b[0mdf\u001b[0m \u001b[1;33m=\u001b[0m \u001b[0mdf\u001b[0m\u001b[1;33m.\u001b[0m\u001b[0msort_values\u001b[0m\u001b[1;33m(\u001b[0m\u001b[0mby\u001b[0m\u001b[1;33m=\u001b[0m\u001b[1;33m[\u001b[0m\u001b[1;34m'date'\u001b[0m\u001b[1;33m,\u001b[0m\u001b[1;34m'Time'\u001b[0m\u001b[1;33m,\u001b[0m\u001b[1;34m'Direction'\u001b[0m\u001b[1;33m,\u001b[0m\u001b[1;34m'Entrance'\u001b[0m\u001b[1;33m]\u001b[0m\u001b[1;33m)\u001b[0m\u001b[1;33m\u001b[0m\u001b[0m\n\u001b[0m",
      "\u001b[1;32m~\\AppData\\Local\\Continuum\\anaconda3\\lib\\site-packages\\pandas\\core\\frame.py\u001b[0m in \u001b[0;36msort_values\u001b[1;34m(self, by, axis, ascending, inplace, kind, na_position)\u001b[0m\n\u001b[0;32m   4406\u001b[0m             \u001b[1;32mfor\u001b[0m \u001b[0mx\u001b[0m \u001b[1;32min\u001b[0m \u001b[0mby\u001b[0m\u001b[1;33m:\u001b[0m\u001b[1;33m\u001b[0m\u001b[0m\n\u001b[0;32m   4407\u001b[0m                 k = self._get_label_or_level_values(x, axis=axis,\n\u001b[1;32m-> 4408\u001b[1;33m                                                     stacklevel=stacklevel)\n\u001b[0m\u001b[0;32m   4409\u001b[0m                 \u001b[0mkeys\u001b[0m\u001b[1;33m.\u001b[0m\u001b[0mappend\u001b[0m\u001b[1;33m(\u001b[0m\u001b[0mk\u001b[0m\u001b[1;33m)\u001b[0m\u001b[1;33m\u001b[0m\u001b[0m\n\u001b[0;32m   4410\u001b[0m             indexer = lexsort_indexer(keys, orders=ascending,\n",
      "\u001b[1;32m~\\AppData\\Local\\Continuum\\anaconda3\\lib\\site-packages\\pandas\\core\\generic.py\u001b[0m in \u001b[0;36m_get_label_or_level_values\u001b[1;34m(self, key, axis, stacklevel)\u001b[0m\n\u001b[0;32m   1377\u001b[0m             \u001b[0mvalues\u001b[0m \u001b[1;33m=\u001b[0m \u001b[0mself\u001b[0m\u001b[1;33m.\u001b[0m\u001b[0maxes\u001b[0m\u001b[1;33m[\u001b[0m\u001b[0maxis\u001b[0m\u001b[1;33m]\u001b[0m\u001b[1;33m.\u001b[0m\u001b[0mget_level_values\u001b[0m\u001b[1;33m(\u001b[0m\u001b[0mkey\u001b[0m\u001b[1;33m)\u001b[0m\u001b[1;33m.\u001b[0m\u001b[0m_values\u001b[0m\u001b[1;33m\u001b[0m\u001b[0m\n\u001b[0;32m   1378\u001b[0m         \u001b[1;32melse\u001b[0m\u001b[1;33m:\u001b[0m\u001b[1;33m\u001b[0m\u001b[0m\n\u001b[1;32m-> 1379\u001b[1;33m             \u001b[1;32mraise\u001b[0m \u001b[0mKeyError\u001b[0m\u001b[1;33m(\u001b[0m\u001b[0mkey\u001b[0m\u001b[1;33m)\u001b[0m\u001b[1;33m\u001b[0m\u001b[0m\n\u001b[0m\u001b[0;32m   1380\u001b[0m \u001b[1;33m\u001b[0m\u001b[0m\n\u001b[0;32m   1381\u001b[0m         \u001b[1;31m# Check for duplicates\u001b[0m\u001b[1;33m\u001b[0m\u001b[1;33m\u001b[0m\u001b[0m\n",
      "\u001b[1;31mKeyError\u001b[0m: 'date'"
     ]
    }
   ],
   "source": [
    "df = df.sort_values(by=['date','Time','Direction','Entrance'])"
   ]
  },
  {
   "cell_type": "code",
   "execution_count": 174,
   "metadata": {},
   "outputs": [],
   "source": [
    "output_path = 'final_output/'\n",
    "output_file = 'pedestrian-footfall-data'+year[0]+'.csv'"
   ]
  },
  {
   "cell_type": "code",
   "execution_count": 175,
   "metadata": {},
   "outputs": [],
   "source": [
    "df.to_csv(output_path+output_file, index=False)"
   ]
  },
  {
   "cell_type": "markdown",
   "metadata": {},
   "source": [
    "# Conlcusion\n",
    "\n",
    "Tidy up\n",
    "\n",
    "#TODO\n",
    "* merge this clean up file into the previous one\n",
    "* complete all into the one\n",
    "* update the output folder\n",
    "* rename the first sheet of the tricky 2014 one\n",
    "* \n",
    "* screenshots from tableau/power BI\n",
    "* pust to git\n",
    "* the 2014 file is problematic\n",
    "* the 2012 file is problematic with the sheet name begging with the year (using stronger regex breaks further down the road.\n",
    "* leave it for today and revisit\n",
    "\n"
   ]
  },
  {
   "cell_type": "code",
   "execution_count": null,
   "metadata": {},
   "outputs": [],
   "source": []
  }
 ],
 "metadata": {
  "kernelspec": {
   "display_name": "Python 3",
   "language": "python",
   "name": "python3"
  },
  "language_info": {
   "codemirror_mode": {
    "name": "ipython",
    "version": 3
   },
   "file_extension": ".py",
   "mimetype": "text/x-python",
   "name": "python",
   "nbconvert_exporter": "python",
   "pygments_lexer": "ipython3",
   "version": "3.6.5"
  }
 },
 "nbformat": 4,
 "nbformat_minor": 2
}
